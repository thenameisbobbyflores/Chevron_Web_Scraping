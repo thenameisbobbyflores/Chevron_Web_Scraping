{
 "cells": [
  {
   "cell_type": "code",
   "execution_count": 1,
   "id": "71be90cc",
   "metadata": {},
   "outputs": [],
   "source": [
    "from selenium import webdriver\n",
    "from selenium.webdriver.common.by import By\n",
    "from selenium.webdriver.support.ui import WebDriverWait\n",
    "from selenium.webdriver.support import expected_conditions as EC\n",
    "from selenium.webdriver.common.action_chains import ActionChains\n",
    "from bs4 import BeautifulSoup\n",
    "from lxml import html\n",
    "import random\n",
    "import requests\n",
    "import csv\n",
    "import re"
   ]
  },
  {
   "cell_type": "markdown",
   "id": "63243584",
   "metadata": {},
   "source": [
    "# Act: Initialize lists"
   ]
  },
  {
   "cell_type": "code",
   "execution_count": 2,
   "id": "5d4cf76f",
   "metadata": {},
   "outputs": [],
   "source": [
    "# Initialize lists to store the extracted data\n",
    "job_names = []\n",
    "total_openings_list = []\n",
    "job_description_list = []\n",
    "required_qualifications_list = []\n",
    "preferred_qualifications_list = []\n",
    "relocation_options_list = []\n",
    "international_consideration_list = []"
   ]
  },
  {
   "cell_type": "markdown",
   "id": "4b04a6f5",
   "metadata": {},
   "source": [
    "# Def: Extract Job Name"
   ]
  },
  {
   "cell_type": "code",
   "execution_count": 3,
   "id": "6232fd4a",
   "metadata": {},
   "outputs": [],
   "source": [
    "def read_csv_and_extract_job_names(csv_file_path):\n",
    "    with open(csv_file_path, 'r') as csvfile:\n",
    "        csv_reader = csv.reader(csvfile, delimiter='|')\n",
    "        header = next(csv_reader)  # Skip the header row\n",
    "        for row in csv_reader:\n",
    "            job_names.append(row[0])  # Assuming the job names are in the first column\n",
    "\n",
    "    return job_names"
   ]
  },
  {
   "cell_type": "markdown",
   "id": "1882e14d",
   "metadata": {},
   "source": [
    "# Def: Extract URLs"
   ]
  },
  {
   "cell_type": "code",
   "execution_count": 4,
   "id": "b26520ce",
   "metadata": {},
   "outputs": [],
   "source": [
    "def read_csv_and_extract_urls(csv_file_path):\n",
    "    urls = []\n",
    "    with open(csv_file_path, 'r') as csvfile:\n",
    "        csv_reader = csv.reader(csvfile, delimiter='|')\n",
    "        header = next(csv_reader)  # Skip the header row\n",
    "        for row in csv_reader:\n",
    "            urls.append(row[1])  # Assuming the job URLs are in the second column\n",
    "\n",
    "    return urls"
   ]
  },
  {
   "cell_type": "markdown",
   "id": "62f74d6e",
   "metadata": {},
   "source": [
    "# Def: Retrieve HTML content from a URL"
   ]
  },
  {
   "cell_type": "code",
   "execution_count": 5,
   "id": "76c545c5",
   "metadata": {},
   "outputs": [],
   "source": [
    "def get_job_html(job_url):\n",
    "    response = requests.get(job_url)\n",
    "    if response.status_code == 200:\n",
    "        return response.text\n",
    "    else:\n",
    "        print(f\"Failed to retrieve HTML content for job URL: {job_url}\")\n",
    "        return None"
   ]
  },
  {
   "cell_type": "markdown",
   "id": "26e4cdf1",
   "metadata": {},
   "source": [
    "# Def: Extract Description Text"
   ]
  },
  {
   "cell_type": "code",
   "execution_count": 6,
   "id": "ccb73034",
   "metadata": {},
   "outputs": [],
   "source": [
    "def extract_description_text(job_html):\n",
    "    soup = BeautifulSoup(job_html, 'html.parser')\n",
    "\n",
    "    # Try finding the first div with class 'ats-description ajd_job-details__ats-description'\n",
    "    description_div = soup.find('div', class_='ats-description ajd_job-details__ats-description')\n",
    "\n",
    "    if not description_div:\n",
    "        # If not found, try finding a div with class 'job-description'\n",
    "        job_description_div = soup.find('div', class_='job-description')\n",
    "        \n",
    "        if job_description_div:\n",
    "            # If 'job-description' div is found, look for 'ats-description' within it\n",
    "            description_div = job_description_div.find('div', class_='ats-description')\n",
    "        else:\n",
    "            description_div = job_description_div            \n",
    "\n",
    "    # Check if a div element was found\n",
    "    if description_div:\n",
    "        # Extract all the text content under the div\n",
    "        description_text = description_div.get_text(separator=' ')  # Use space as a separator\n",
    "        description_text = ' '.join(description_text.split())  # Remove extra spaces and newline characters\n",
    "        return description_text.strip()\n",
    "    else:\n",
    "        return \"N/A - Description Text from job_html\""
   ]
  },
  {
   "cell_type": "markdown",
   "id": "2bb32272",
   "metadata": {},
   "source": [
    "# Def: Total Openings"
   ]
  },
  {
   "cell_type": "code",
   "execution_count": 7,
   "id": "94fc94a2",
   "metadata": {},
   "outputs": [],
   "source": [
    "def extract_total_openings(description_text):\n",
    "    # Define a regular expression pattern to match the total openings\n",
    "    pattern = r\"Total Number of Openings\\s*(\\d+)\"\n",
    "\n",
    "    # Use re.search to find the pattern in the description text\n",
    "    match = re.search(pattern, description_text)\n",
    "\n",
    "    if match:\n",
    "        total_openings = match.group(1)  # Extract the captured number\n",
    "\n",
    "        # Remove the information about \"Total Number of Openings\" and the captured number\n",
    "        description_text = re.sub(pattern, \"\", description_text).strip()\n",
    "\n",
    "        return total_openings, description_text\n",
    "    else:\n",
    "        return \"N/A - Extract Total Openings\", description_text  # Return default values if not found"
   ]
  },
  {
   "cell_type": "markdown",
   "id": "3eb40596",
   "metadata": {},
   "source": [
    "# Def: Job Description and Responsibilities"
   ]
  },
  {
   "cell_type": "code",
   "execution_count": 8,
   "id": "6f42f872",
   "metadata": {},
   "outputs": [],
   "source": [
    "def extract_job_description(description_text):\n",
    "    # Define a list of potential delimiters to split by\n",
    "    delimiters = [\n",
    "        \"Required Qualifications:\",\n",
    "        \"Required Qualifications\",\n",
    "        \"Required qualifications\",\n",
    "        \"Required Skills and Experience:\",\n",
    "        \"JOB QUALIFICATIONS:\",\n",
    "        \"Requirements\",\n",
    "        \"Relocation Options:\",\n",
    "    ]\n",
    "\n",
    "    for delimiter in delimiters:\n",
    "        parts = description_text.split(delimiter, 1)\n",
    "        if len(parts) > 1:\n",
    "            job_description = parts[0].strip()  # Text before the delimiter\n",
    "            description_text = delimiter + parts[1].strip()  # Text after the delimiter\n",
    "            return job_description, description_text\n",
    "\n",
    "    # If none of the delimiters were found, return the \"N/A\" message\n",
    "    return \"N/A - Extract Job Description\", \"N/A - Extract Job Description\""
   ]
  },
  {
   "cell_type": "markdown",
   "id": "8ba0f44e",
   "metadata": {},
   "source": [
    "# Def: Qualifications"
   ]
  },
  {
   "cell_type": "code",
   "execution_count": 9,
   "id": "c3098924",
   "metadata": {},
   "outputs": [],
   "source": [
    "def extract_qualifications(description_text):\n",
    "    # Check if \"Relocation Options:\" exists in the description text\n",
    "    if \"Relocation Options:\" in description_text:\n",
    "        # Split the description text by \"Relocation Options:\"\n",
    "        parts = description_text.split(\"Relocation Options:\")\n",
    "        qualifications = parts[0].strip()  # Text before Relocation Options\n",
    "        description_text = parts[1].strip()  # Text after Relocation Options\n",
    "    else:\n",
    "        # Find the index of the first instance of \"Chevron\"\n",
    "        chevron_index = description_text.lower().find(\"chevron\")\n",
    "        if chevron_index != -1:\n",
    "            # Split the description text at the first instance of \"Chevron\"\n",
    "            qualifications = description_text[:chevron_index].strip()\n",
    "            description_text = description_text[chevron_index:].strip()\n",
    "        else:\n",
    "            qualifications = \"N/A - Extract Qualifications\"\n",
    "\n",
    "    return qualifications, description_text"
   ]
  },
  {
   "cell_type": "markdown",
   "id": "1a5fbfe5",
   "metadata": {},
   "source": [
    "# Def: Relocation Options"
   ]
  },
  {
   "cell_type": "code",
   "execution_count": 10,
   "id": "97998b29",
   "metadata": {},
   "outputs": [],
   "source": [
    "def extract_relocation_options(description_text):\n",
    "    # Split the description text by \"International Considerations:\"\n",
    "    parts = description_text.split(\"International Considerations:\")\n",
    "    if len(parts) > 1:\n",
    "        relocation_options = parts[0].strip()  # Text before Relocation Options\n",
    "        description_text = parts[1].strip()  # Text after Relocation Options\n",
    "        \n",
    "        return relocation_options, description_text\n",
    "    else:\n",
    "        return \"N/A - Extract Relocation\", description_text"
   ]
  },
  {
   "cell_type": "markdown",
   "id": "766e51ca",
   "metadata": {},
   "source": [
    "# Def: International Consideration"
   ]
  },
  {
   "cell_type": "code",
   "execution_count": 11,
   "id": "ae20deec",
   "metadata": {},
   "outputs": [],
   "source": [
    "def extract_international_considerations(description_text):\n",
    "    # Define a list of potential delimiters to split by\n",
    "    delimiters = [\n",
    "        \"IMPORTANT NOTE:\",\n",
    "        \"Regulatory Disclosure for US Positions\",\n",
    "        \"Flexible Working\",\n",
    "        \"Chevron offers\"\n",
    "    ]\n",
    "\n",
    "    for _ in range(2):  # Repeat the process twice\n",
    "        for delimiter in delimiters:\n",
    "            if delimiter in description_text:\n",
    "                # Split the description text by the delimiter\n",
    "                parts = description_text.split(delimiter)\n",
    "                international_considerations = parts[0].strip()  # Text before the delimiter\n",
    "                description_text = delimiter + parts[1].strip()  # Text after the delimiter\n",
    "                return international_considerations, description_text\n",
    "\n",
    "    # If none of the delimiters were found, return the \"N/A\" message\n",
    "    return \"N/A - Extract International Considerations\", description_text"
   ]
  },
  {
   "cell_type": "markdown",
   "id": "23f82192",
   "metadata": {},
   "source": [
    "# Action: Get the URLs"
   ]
  },
  {
   "cell_type": "code",
   "execution_count": 16,
   "id": "898c7459",
   "metadata": {},
   "outputs": [
    {
     "name": "stdout",
     "output_type": "stream",
     "text": [
      "Number of URLs read: 69\n"
     ]
    }
   ],
   "source": [
    "# Define the CSV file path for reading and writing\n",
    "csv_file_path = 'job_information.csv'\n",
    "\n",
    "# Read the CSV file and extract URLs\n",
    "urls = read_csv_and_extract_urls(csv_file_path)\n",
    "\n",
    "# Print the number of URLs read\n",
    "print(f\"Number of URLs read: {len(urls)}\")"
   ]
  },
  {
   "cell_type": "markdown",
   "id": "6ebc1c98",
   "metadata": {},
   "source": [
    "# Action: Create the job_html_list (Time Consuming)"
   ]
  },
  {
   "cell_type": "code",
   "execution_count": 17,
   "id": "8490ce54",
   "metadata": {},
   "outputs": [
    {
     "name": "stdout",
     "output_type": "stream",
     "text": [
      "Failed to retrieve HTML content for job URL: https://careers.chevron.com/job/houston/administrative-assistant/38138/55025779888\n",
      "Failed to retrieve HTML content for job URL: https://careers.chevron.com/job/midland/instrumentation-electrical-and-power-technician/38138/54987842384\n",
      "Failed to retrieve HTML content for job URL: https://careers.chevron.com/job/midland/mcbu-reliability-specialist/38138/54942306592\n",
      "Failed to retrieve HTML content for job URL: https://careers.chevron.com/job/houston/senior-ccus-policy-advisor/38138/54905477120\n",
      "Failed to retrieve HTML content for job URL: https://careers.chevron.com/job/pascagoula/machinist-maintenance-mechanic-trainee/38138/54888146736\n",
      "Failed to retrieve HTML content for job URL: https://careers.chevron.com/job/pascagoula/instrument-and-electrical-maintenance-mechanic-trainee/38138/54888145344\n",
      "Failed to retrieve HTML content for job URL: https://careers.chevron.com/job/bakersfield/land-representative/38138/54759402864\n",
      "Failed to retrieve HTML content for job URL: https://careers.chevron.com/job/newton/biodiesel-operator/38138/54721259200\n",
      "Failed to retrieve HTML content for job URL: https://careers.chevron.com/job/mckittrick/cpp-maintenance-mechanic/38138/54712760224\n",
      "Failed to retrieve HTML content for job URL: https://careers.chevron.com/job/houston/trading-operations-scheduler/38138/54712756400\n",
      "Failed to retrieve HTML content for job URL: https://careers.chevron.com/job/north-salt-lake/lead-environmental-specialists-water-and-waste/38138/54712754272\n",
      "Failed to retrieve HTML content for job URL: https://careers.chevron.com/job/covington/hse-environmental-specialist/38138/54704431216\n",
      "Failed to retrieve HTML content for job URL: https://careers.chevron.com/job/pascagoula/security-specialist/38138/54704431152\n",
      "Failed to retrieve HTML content for job URL: https://careers.chevron.com/job/seneca/maintenance-technician-instrument-electrical/38138/54675379456\n",
      "Failed to retrieve HTML content for job URL: https://careers.chevron.com/job/san-ramon/legal-analyst/38138/54675379280\n",
      "Failed to retrieve HTML content for job URL: https://careers.chevron.com/job/houston/lead-legal-assistant/38138/54675378128\n",
      "Failed to retrieve HTML content for job URL: https://careers.chevron.com/job/houston/claims-specialist/38138/54675375504\n",
      "Failed to retrieve HTML content for job URL: https://careers.chevron.com/job/ralston/biodiesel-lab-technician/38138/54658525872\n"
     ]
    }
   ],
   "source": [
    "# Create a list to store the job_html\n",
    "job_html_list = []\n",
    "\n",
    "# Iterate through the URLs and extract job_html for each job URL\n",
    "for job_url in urls:\n",
    "    # Get HTML content from the job URL\n",
    "    job_html = get_job_html(job_url)\n",
    "\n",
    "    # Append the job_html to the list along with the URL\n",
    "    job_html_list.append([job_url, job_html])"
   ]
  },
  {
   "cell_type": "markdown",
   "id": "977e990c",
   "metadata": {},
   "source": [
    "# Test: Test Subject"
   ]
  },
  {
   "cell_type": "code",
   "execution_count": 14,
   "id": "541bbf19",
   "metadata": {},
   "outputs": [
    {
     "name": "stdout",
     "output_type": "stream",
     "text": [
      "URL: https://careers.chevron.com/job/houston/senior-application-engineer/38138/43808365120\n",
      "\n",
      "Description_text: Chevron is accepting online applications for the position Senior Application Engineer Join our Team Chevron’s strategy is straight-forward: be a leader in efficient and lower carbon production of traditional energy, in high demand today and for decades to come, while growing lower carbon businesses that will be a bigger part of the future. To achieve these goals, we’ll build on the assets, experience, capabilities, and relationships we’ve developed over 140 years to incubate and grow new business. Technology will play a crucial role in unlocking ever cleaner and more affordable sources of energy. Chevron is seeking innovative, technology professionals with a desire to thrive in the global digital environment and help us lead the global energy transition. An IT career at Chevron offers you the opportunity to work in a technical environment with a global reach. You’ll find that we make a business of investing in our people and encouraging your professional development through a learning culture and challenging on-the-job opportunities. We differentiate ourselves through the application of cutting-edge technology, and by taking a collaborative approach that includes in-house expertise, proprietary solutions, and strategic partnerships. We also offer flexible work schedules and very competitive benefits. Join Chevron IT. Lend us your skills and enjoy a great career with Chevron. Multiple positions available, based on domain experience and technical capabilities. For some positions, the successful candidate must be able to pass requirements to acquire a Transportation Worker Identification Credential (TWICs) card. Available Locations: Bakersfield, CA / San Ramon, CA / Richmond, CA / Houston, TX / Midland, TX / Covington, LA / Belle Chase, LA / Pascagoula, MS / Calgary (Canada) As a Senior Application Engineer, you will: Supports the software development lifecycle for software solutions Deploys, configures, and supports business applications Configures, customizes, and integrates vendor-sourced enterprise software with other internal systems Updates existing code to debug or incorporate minor enhancements Develops deep domain knowledge by understanding business processes. Elicits business requirements and translates business needs into fit-for-purpose actionable plans. Actively participates in an integrated DevOps Team utilizing Agile methodologies with strong change management focus. Provides daily operational support for several applications by troubleshooting incidents to identify root causes and solutions, identifying and resolving problems, designing and implementing configuration changes and monitoring performance. Proactive communication and quick response to production issues and project work. Strong customer focus. Monitors interfaces/data loads, administer security, and provide feedback/solutions on application performance. Identifies areas for improvement and partners with Software Engineers/team members to address tactical and strategic issues. Develops and maintains support documentation. Maintains IP Compliance on systems and software as appropriate. Requirements Experience 5+ years industry relevant experience Demonstrated application of strong analytical and problem-solving skills to help the team identify, communicate, and resolve issues Skilled in scripting to automate workflow, and in low code development platforms Experience providing design, testing and implementation support for and participation in internally driven platform deployment or lifecycle projects, and/or customer-facing projects Knowledge and hands-on experience in two or more of the following is a plus: Power Apps, Power BI, C#, C++, Angular, Node.js, SQL, Ansible, R, Java, Python, Azure, APIs, Web services (WCF and/or RESTful services), Web technologies (HTML, CSS, JavaScript), SQL Server, SAP FI/CO, SD/SD-ISOil, MM/MM-ISOil, PM/AM, EWM, among others. Motivated, flexible, self-directed, works with minimal supervision, and a high degree of ownership Strong communication (written/verbal) and facilitation skills with solid ability to convey business and technical information to a diverse audience Organized and skilled at planning; ability to work from a high-level to a low level of detail and handle multiple assignments with varying priorities and deadlines while maintaining calm composure under pressure Experience/knowledge in Agile SAFe, Kanban and Scrum methodologies Skills : Knowledgeable in configuring APIs to integrate systems both on premise and in the cloud. Experience with custom objects, programs, interfaces, activating and generating pre-defined reports and analytics. Experience in deployment of new solutions and applications, including training and support Education : Bachelor's Degree in Computer Systems or related fields. Flexible Working Chevron offers a complete package and provides career development opportunities to all employees. We do this through onboarding, training and development, mentoring, volunteering opportunities and employee networking groups. We advocate work-life balance and offer employees access to various health and wellness programs. We offer a hybrid work model - work remotely from home 2-3 days a week Relocation & International Considerations Relocation [ ☒ may / ☐ will not be] considered. Expatriate assignments [ ☐ may / will not be ☒ ] considered. Chevron regrets that it is unable to sponsor employment Visas or consider individuals on time-limited Visa status for this position. Working with us Chevron is one of the world’s leading integrated energy companies. We believe affordable, reliable, and ever-cleaner energy is essential to achieving a more prosperous and sustainable world. Chevron produces crude oil and natural gas; manufactures transportation fuels, lubricants, petrochemicals, and additives; and develops technologies that enhance our business and the industry. We are focused on lowering the carbon intensity in our operations and seeking to grow lower carbon businesses along with our traditional business lines. More information about Chevron is available at www.chevron.com . Benefits Chevron offers competitive compensation and benefits programs which includes, but is not limited to, variable pay, healthcare coverage, retirement plan, insurance, time off programs, training and development opportunities and a range of allowances connected to specific work situations. Details of such benefits and allowances are available at https://hr2.chevron.com/ . The compensation and reference to benefits for this role is listed on this posting in compliance with Colorado law. The selected candidate’s salary will be determined based on his or her skills, experience, and qualifications. Regulatory Disclosure for US Positions: Chevron is an Equal Opportunity / Affirmative Action employer. Qualified applicants will receive consideration for employment without regard to race, color, religious creed, sex (including pregnancy, childbirth, breast-feeding and related medical conditions), sexual orientation, gender identity, gender expression, national origin or ancestry, age, mental or physical disability (including medical condition), military or veteran status, political preference, marital status, citizenship, genetic information or other status protected by law or regulation. We are committed to providing reasonable accommodations for qualified individuals with disabilities. If you need assistance or an accommodation, please email us at emplymnt@chevron.com . Chevron participates in E-Verify in certain locations as required by law. Default Terms and Conditions We respect the privacy of candidates for employment. This Privacy Notice sets forth how we will use the information we obtain when you apply for a position through this career site. If you do not consent to the terms of this Privacy Notice, please do not submit information to us. Please access the linked document , select the country where you are applying for employment, then acknowledge that you have read and agree to the country specific statement by checking the box below. Terms of Use\n",
      "\n",
      "Total Openings: N/A - Extract Total Openings\n",
      "\n",
      "Job Description: Chevron is accepting online applications for the position Senior Application Engineer Join our Team Chevron’s strategy is straight-forward: be a leader in efficient and lower carbon production of traditional energy, in high demand today and for decades to come, while growing lower carbon businesses that will be a bigger part of the future. To achieve these goals, we’ll build on the assets, experience, capabilities, and relationships we’ve developed over 140 years to incubate and grow new business. Technology will play a crucial role in unlocking ever cleaner and more affordable sources of energy. Chevron is seeking innovative, technology professionals with a desire to thrive in the global digital environment and help us lead the global energy transition. An IT career at Chevron offers you the opportunity to work in a technical environment with a global reach. You’ll find that we make a business of investing in our people and encouraging your professional development through a learning culture and challenging on-the-job opportunities. We differentiate ourselves through the application of cutting-edge technology, and by taking a collaborative approach that includes in-house expertise, proprietary solutions, and strategic partnerships. We also offer flexible work schedules and very competitive benefits. Join Chevron IT. Lend us your skills and enjoy a great career with Chevron. Multiple positions available, based on domain experience and technical capabilities. For some positions, the successful candidate must be able to pass requirements to acquire a Transportation Worker Identification Credential (TWICs) card. Available Locations: Bakersfield, CA / San Ramon, CA / Richmond, CA / Houston, TX / Midland, TX / Covington, LA / Belle Chase, LA / Pascagoula, MS / Calgary (Canada) As a Senior Application Engineer, you will: Supports the software development lifecycle for software solutions Deploys, configures, and supports business applications Configures, customizes, and integrates vendor-sourced enterprise software with other internal systems Updates existing code to debug or incorporate minor enhancements Develops deep domain knowledge by understanding business processes. Elicits business requirements and translates business needs into fit-for-purpose actionable plans. Actively participates in an integrated DevOps Team utilizing Agile methodologies with strong change management focus. Provides daily operational support for several applications by troubleshooting incidents to identify root causes and solutions, identifying and resolving problems, designing and implementing configuration changes and monitoring performance. Proactive communication and quick response to production issues and project work. Strong customer focus. Monitors interfaces/data loads, administer security, and provide feedback/solutions on application performance. Identifies areas for improvement and partners with Software Engineers/team members to address tactical and strategic issues. Develops and maintains support documentation. Maintains IP Compliance on systems and software as appropriate.\n",
      "\n",
      "Qualifications: RequirementsExperience 5+ years industry relevant experience Demonstrated application of strong analytical and problem-solving skills to help the team identify, communicate, and resolve issues Skilled in scripting to automate workflow, and in low code development platforms Experience providing design, testing and implementation support for and participation in internally driven platform deployment or lifecycle projects, and/or customer-facing projects Knowledge and hands-on experience in two or more of the following is a plus: Power Apps, Power BI, C#, C++, Angular, Node.js, SQL, Ansible, R, Java, Python, Azure, APIs, Web services (WCF and/or RESTful services), Web technologies (HTML, CSS, JavaScript), SQL Server, SAP FI/CO, SD/SD-ISOil, MM/MM-ISOil, PM/AM, EWM, among others. Motivated, flexible, self-directed, works with minimal supervision, and a high degree of ownership Strong communication (written/verbal) and facilitation skills with solid ability to convey business and technical information to a diverse audience Organized and skilled at planning; ability to work from a high-level to a low level of detail and handle multiple assignments with varying priorities and deadlines while maintaining calm composure under pressure Experience/knowledge in Agile SAFe, Kanban and Scrum methodologies Skills : Knowledgeable in configuring APIs to integrate systems both on premise and in the cloud. Experience with custom objects, programs, interfaces, activating and generating pre-defined reports and analytics. Experience in deployment of new solutions and applications, including training and support Education : Bachelor's Degree in Computer Systems or related fields. Flexible Working\n",
      "\n",
      "Relocation Options: N/A - Extract Relocation\n",
      "\n",
      "International Considerations: Chevron offers a complete package and provides career development opportunities to all employees. We do this through onboarding, training and development, mentoring, volunteering opportunities and employee networking groups. We advocate work-life balance and offer employees access to various health and wellness programs. We offer a hybrid work model - work remotely from home 2-3 days a week Relocation & International Considerations Relocation [ ☒ may / ☐ will not be] considered. Expatriate assignments [ ☐ may / will not be ☒ ] considered. Chevron regrets that it is unable to sponsor employment Visas or consider individuals on time-limited Visa status for this position. Working with us Chevron is one of the world’s leading integrated energy companies. We believe affordable, reliable, and ever-cleaner energy is essential to achieving a more prosperous and sustainable world. Chevron produces crude oil and natural gas; manufactures transportation fuels, lubricants, petrochemicals, and additives; and develops technologies that enhance our business and the industry. We are focused on lowering the carbon intensity in our operations and seeking to grow lower carbon businesses along with our traditional business lines. More information about Chevron is available at www.chevron.com . Benefits Chevron offers competitive compensation and benefits programs which includes, but is not limited to, variable pay, healthcare coverage, retirement plan, insurance, time off programs, training and development opportunities and a range of allowances connected to specific work situations. Details of such benefits and allowances are available at https://hr2.chevron.com/ . The compensation and reference to benefits for this role is listed on this posting in compliance with Colorado law. The selected candidate’s salary will be determined based on his or her skills, experience, and qualifications.\n",
      "\n"
     ]
    }
   ],
   "source": [
    "# Define the CSV file path\n",
    "# csv_file_path = 'job_information.csv'\n",
    "\n",
    "# Extract job names and URLs using the provided functions\n",
    "# job_names = read_csv_and_extract_job_names(csv_file_path)\n",
    "# urls = read_csv_and_extract_urls(csv_file_path)\n",
    "# url = 'https://careers.chevron.com/job/albert-lea/biodiesel-operator-loader/38138/55270585744'\n",
    "\n",
    "# Get the job HTML\n",
    "job_html = get_job_html(urls[67])\n",
    "print(\"URL:\", urls[67])\n",
    "print()\n",
    "\n",
    "# Extract data from HTML\n",
    "description_text = extract_description_text(job_html)\n",
    "print(\"Description_text:\", description_text)\n",
    "print()\n",
    "\n",
    "# Call the function to extract total openings\n",
    "total_openings, description_text = extract_total_openings(description_text)\n",
    "print(\"Total Openings:\", total_openings)\n",
    "print()\n",
    "\n",
    "# Call the function to extract the updated description text\n",
    "job_description, description_text = extract_job_description(description_text)\n",
    "print(\"Job Description:\", job_description)\n",
    "print()\n",
    "\n",
    "# Call the function to extract the required and preferred qualifications\n",
    "qualifications, description_text = extract_qualifications(description_text)\n",
    "print(\"Qualifications:\", qualifications)\n",
    "print()\n",
    "\n",
    "# Call the function to extract the relocation options\n",
    "relocation_options, description_text = extract_relocation_options(description_text)\n",
    "print(\"Relocation Options:\", relocation_options)\n",
    "print()\n",
    "\n",
    "# Call the function to extract the relocation options\n",
    "international_considerations, description_text = extract_international_considerations(description_text)\n",
    "print(\"International Considerations:\", international_considerations)\n",
    "print()"
   ]
  },
  {
   "cell_type": "markdown",
   "id": "38606354",
   "metadata": {},
   "source": [
    "# Action: Extract the data from the HTML"
   ]
  },
  {
   "cell_type": "code",
   "execution_count": 15,
   "id": "3c3856e5",
   "metadata": {},
   "outputs": [
    {
     "ename": "TypeError",
     "evalue": "object of type 'NoneType' has no len()",
     "output_type": "error",
     "traceback": [
      "\u001b[1;31m---------------------------------------------------------------------------\u001b[0m",
      "\u001b[1;31mTypeError\u001b[0m                                 Traceback (most recent call last)",
      "Cell \u001b[1;32mIn[15], line 7\u001b[0m\n\u001b[0;32m      4\u001b[0m \u001b[38;5;66;03m# Iterate through job_html_list and extract information\u001b[39;00m\n\u001b[0;32m      5\u001b[0m \u001b[38;5;28;01mfor\u001b[39;00m job_url, job_html \u001b[38;5;129;01min\u001b[39;00m job_html_list:\n\u001b[0;32m      6\u001b[0m     \u001b[38;5;66;03m# Extract data from HTML\u001b[39;00m\n\u001b[1;32m----> 7\u001b[0m     description_text \u001b[38;5;241m=\u001b[39m extract_description_text(job_html)\n\u001b[0;32m      9\u001b[0m     \u001b[38;5;66;03m# Call the function to extract total openings\u001b[39;00m\n\u001b[0;32m     10\u001b[0m     total_openings, description_text \u001b[38;5;241m=\u001b[39m extract_total_openings(description_text)\n",
      "Cell \u001b[1;32mIn[6], line 2\u001b[0m, in \u001b[0;36mextract_description_text\u001b[1;34m(job_html)\u001b[0m\n\u001b[0;32m      1\u001b[0m \u001b[38;5;28;01mdef\u001b[39;00m \u001b[38;5;21mextract_description_text\u001b[39m(job_html):\n\u001b[1;32m----> 2\u001b[0m     soup \u001b[38;5;241m=\u001b[39m BeautifulSoup(job_html, \u001b[38;5;124m'\u001b[39m\u001b[38;5;124mhtml.parser\u001b[39m\u001b[38;5;124m'\u001b[39m)\n\u001b[0;32m      4\u001b[0m     \u001b[38;5;66;03m# Try finding the first div with class 'ats-description ajd_job-details__ats-description'\u001b[39;00m\n\u001b[0;32m      5\u001b[0m     description_div \u001b[38;5;241m=\u001b[39m soup\u001b[38;5;241m.\u001b[39mfind(\u001b[38;5;124m'\u001b[39m\u001b[38;5;124mdiv\u001b[39m\u001b[38;5;124m'\u001b[39m, class_\u001b[38;5;241m=\u001b[39m\u001b[38;5;124m'\u001b[39m\u001b[38;5;124mats-description ajd_job-details__ats-description\u001b[39m\u001b[38;5;124m'\u001b[39m)\n",
      "File \u001b[1;32m~\\anaconda3\\Lib\\site-packages\\bs4\\__init__.py:315\u001b[0m, in \u001b[0;36mBeautifulSoup.__init__\u001b[1;34m(self, markup, features, builder, parse_only, from_encoding, exclude_encodings, element_classes, **kwargs)\u001b[0m\n\u001b[0;32m    313\u001b[0m \u001b[38;5;28;01mif\u001b[39;00m \u001b[38;5;28mhasattr\u001b[39m(markup, \u001b[38;5;124m'\u001b[39m\u001b[38;5;124mread\u001b[39m\u001b[38;5;124m'\u001b[39m):        \u001b[38;5;66;03m# It's a file-type object.\u001b[39;00m\n\u001b[0;32m    314\u001b[0m     markup \u001b[38;5;241m=\u001b[39m markup\u001b[38;5;241m.\u001b[39mread()\n\u001b[1;32m--> 315\u001b[0m \u001b[38;5;28;01melif\u001b[39;00m \u001b[38;5;28mlen\u001b[39m(markup) \u001b[38;5;241m<\u001b[39m\u001b[38;5;241m=\u001b[39m \u001b[38;5;241m256\u001b[39m \u001b[38;5;129;01mand\u001b[39;00m (\n\u001b[0;32m    316\u001b[0m         (\u001b[38;5;28misinstance\u001b[39m(markup, \u001b[38;5;28mbytes\u001b[39m) \u001b[38;5;129;01mand\u001b[39;00m \u001b[38;5;129;01mnot\u001b[39;00m \u001b[38;5;124mb\u001b[39m\u001b[38;5;124m'\u001b[39m\u001b[38;5;124m<\u001b[39m\u001b[38;5;124m'\u001b[39m \u001b[38;5;129;01min\u001b[39;00m markup)\n\u001b[0;32m    317\u001b[0m         \u001b[38;5;129;01mor\u001b[39;00m (\u001b[38;5;28misinstance\u001b[39m(markup, \u001b[38;5;28mstr\u001b[39m) \u001b[38;5;129;01mand\u001b[39;00m \u001b[38;5;129;01mnot\u001b[39;00m \u001b[38;5;124m'\u001b[39m\u001b[38;5;124m<\u001b[39m\u001b[38;5;124m'\u001b[39m \u001b[38;5;129;01min\u001b[39;00m markup)\n\u001b[0;32m    318\u001b[0m ):\n\u001b[0;32m    319\u001b[0m     \u001b[38;5;66;03m# Issue warnings for a couple beginner problems\u001b[39;00m\n\u001b[0;32m    320\u001b[0m     \u001b[38;5;66;03m# involving passing non-markup to Beautiful Soup.\u001b[39;00m\n\u001b[0;32m    321\u001b[0m     \u001b[38;5;66;03m# Beautiful Soup will still parse the input as markup,\u001b[39;00m\n\u001b[0;32m    322\u001b[0m     \u001b[38;5;66;03m# since that is sometimes the intended behavior.\u001b[39;00m\n\u001b[0;32m    323\u001b[0m     \u001b[38;5;28;01mif\u001b[39;00m \u001b[38;5;129;01mnot\u001b[39;00m \u001b[38;5;28mself\u001b[39m\u001b[38;5;241m.\u001b[39m_markup_is_url(markup):\n\u001b[0;32m    324\u001b[0m         \u001b[38;5;28mself\u001b[39m\u001b[38;5;241m.\u001b[39m_markup_resembles_filename(markup)                \n",
      "\u001b[1;31mTypeError\u001b[0m: object of type 'NoneType' has no len()"
     ]
    }
   ],
   "source": [
    "# Create a list to store updated rows\n",
    "updated_rows = []\n",
    "\n",
    "# Iterate through job_html_list and extract information\n",
    "for job_url, job_html in job_html_list:\n",
    "    # Extract data from HTML\n",
    "    description_text = extract_description_text(job_html)\n",
    "\n",
    "    # Call the function to extract total openings\n",
    "    total_openings, description_text = extract_total_openings(description_text)\n",
    "\n",
    "    # Call the function to extract the updated description text\n",
    "    job_description, description_text = extract_job_description(description_text)\n",
    "\n",
    "    # Call the function to extract the required and preferred qualifications\n",
    "    qualifications, description_text = extract_qualifications(description_text)\n",
    "\n",
    "    # Call the function to extract the relocation options\n",
    "    relocation_options, description_text = extract_relocation_options(description_text)\n",
    "\n",
    "    # Call the function to extract the international considerations\n",
    "    international_considerations, _ = extract_international_considerations(description_text)\n",
    "\n",
    "    # Append the extracted data to the list\n",
    "    updated_row = [job_url, total_openings, job_description, qualifications, relocation_options, international_considerations]\n",
    "    updated_rows.append(updated_row)\n",
    "    \n",
    "    # Remove all instances of \"\\n\" from the elements of updated_rows\n",
    "    for i, row in enumerate(updated_rows):\n",
    "        updated_rows[i] = [item.replace(\"\\n\", \" \") if isinstance(item, str) else item for item in row]"
   ]
  },
  {
   "cell_type": "markdown",
   "id": "477be9d1",
   "metadata": {},
   "source": [
    "# Action: Save to the updated_job_information.csv"
   ]
  },
  {
   "cell_type": "code",
   "execution_count": null,
   "id": "755fc4b7",
   "metadata": {},
   "outputs": [],
   "source": [
    "import csv\n",
    "\n",
    "def save_updated_rows_to_csv(updated_rows, output_csv_file_path):\n",
    "    \"\"\"\n",
    "    Save the updated rows to a CSV file.\n",
    "\n",
    "    Args:\n",
    "        updated_rows (list): List of lists containing updated row data.\n",
    "        output_csv_file_path (str): Path to the output CSV file.\n",
    "    \"\"\"\n",
    "    # Open the CSV file for writing\n",
    "    with open(output_csv_file_path, 'w', newline='', encoding='utf-8') as csvfile:\n",
    "        csv_writer = csv.writer(csvfile, delimiter='|')\n",
    "\n",
    "        # Iterate through the updated rows and write them to the CSV file\n",
    "        for row in updated_rows:\n",
    "            csv_writer.writerow(row)\n",
    "\n",
    "# Usage example\n",
    "output_csv_file_path = 'updated_job_information.csv'\n",
    "save_updated_rows_to_csv(updated_rows, output_csv_file_path)\n",
    "print(\"Data saved to CSV file:\", output_csv_file_path)"
   ]
  },
  {
   "cell_type": "code",
   "execution_count": null,
   "id": "dafca85d",
   "metadata": {},
   "outputs": [],
   "source": []
  }
 ],
 "metadata": {
  "kernelspec": {
   "display_name": "Python 3 (ipykernel)",
   "language": "python",
   "name": "python3"
  },
  "language_info": {
   "codemirror_mode": {
    "name": "ipython",
    "version": 3
   },
   "file_extension": ".py",
   "mimetype": "text/x-python",
   "name": "python",
   "nbconvert_exporter": "python",
   "pygments_lexer": "ipython3",
   "version": "3.11.3"
  }
 },
 "nbformat": 4,
 "nbformat_minor": 5
}
